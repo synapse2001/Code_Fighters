{
 "cells": [
  {
   "cell_type": "code",
   "execution_count": 4,
   "metadata": {},
   "outputs": [],
   "source": [
    "import pandas as pd\n",
    "import numpy as np\n",
    "\n",
    "# Read the submission.csv file\n",
    "submission_df = pd.read_csv('Doceree-HCP_Sample_Submission.csv')\n",
    "\n",
    "# Initialize the 'TAXONOMY' column with NaN values\n",
    "submission_df['TAXONOMY'] = np.nan\n",
    "\n",
    "# Read the predictions.csv file\n",
    "predictions_df = pd.read_csv('predictions.csv')\n",
    "\n",
    "# Update the 'IS_HCP' and 'TAXONOMY' values based on matching IDs\n",
    "for index, row in predictions_df.iterrows():\n",
    "    id_value = row['ID']\n",
    "    is_hcp = row['IS_HCP']\n",
    "    taxonomy = row['TAXONOMY']\n",
    "    \n",
    "    submission_df.loc[submission_df['ID'] == id_value, 'IS_HCP'] = is_hcp\n",
    "    submission_df.loc[submission_df['ID'] == id_value, 'TAXONOMY'] = taxonomy\n",
    "\n",
    "# Save the updated dataframe to a new CSV file\n",
    "submission_df.to_csv('updated_submission.csv', index=False)"
   ]
  }
 ],
 "metadata": {
  "kernelspec": {
   "display_name": "Python 3",
   "language": "python",
   "name": "python3"
  },
  "language_info": {
   "codemirror_mode": {
    "name": "ipython",
    "version": 3
   },
   "file_extension": ".py",
   "mimetype": "text/x-python",
   "name": "python",
   "nbconvert_exporter": "python",
   "pygments_lexer": "ipython3",
   "version": "3.10.0"
  },
  "orig_nbformat": 4
 },
 "nbformat": 4,
 "nbformat_minor": 2
}
